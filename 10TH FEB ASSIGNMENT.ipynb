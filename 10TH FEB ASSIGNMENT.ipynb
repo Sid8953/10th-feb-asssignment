{
 "cells": [
  {
   "cell_type": "markdown",
   "id": "0e555952-0db3-4f49-ab13-ba5dc25e5165",
   "metadata": {},
   "source": [
    "# ans 1\n",
    "The open() function is used to open a file. When opening a file, you can specify the mode in which the file should be opened. The different modes are:\n",
    "\n",
    "'r': Read mode is used when you only want to read the file. This is the default mode.\n",
    "\n",
    "'w': Write mode is used when you want to write to the file. If the file already exists, the content is truncated (deleted). If the file does not exist, a new file is created.\n",
    "\n",
    "'a': Append mode is used when you want to append data to the end of an existing file. If the file does not exist, a new file is created.\n",
    "\n",
    "'x': Exclusive creation mode is used when you want to create a new file but only if the file does not already exist. If the file exists, the FileExistsError is raised.\n",
    "\n",
    "'b': Binary mode is used when you want to read or write binary data. When used in combination with other modes, it should be appended as a suffix to the mode string. For example, 'wb' for write in binary mode, or 'rb' for read in binary mode.\n",
    "\n",
    "'t': Text mode is used when you want to read or write text data. When used in combination with other modes, it should be appended as a suffix to the mode string. For example, 'wt' for write in text mode, or 'rt' for read in text mode."
   ]
  },
  {
   "cell_type": "code",
   "execution_count": 1,
   "id": "96cf1fc7-47ea-438f-b080-444bb058c262",
   "metadata": {},
   "outputs": [
    {
     "name": "stdout",
     "output_type": "stream",
     "text": [
      "<!-- ![ineuron-logo](https://user-images.githubusercontent.com/115527165/196935402-66c2496e-190d-4f67-9f6b-e42c06994999.png) -->\n",
      "# Jupyter lab\n",
      "- Execute the codes in each cell to get the output.\n",
      "\n"
     ]
    }
   ],
   "source": [
    "f = open(\"README.md\", \"r\")\n",
    "content = f.read()\n",
    "print(content)\n",
    "f.close()"
   ]
  },
  {
   "cell_type": "markdown",
   "id": "b8e99b2f-4756-4ee9-9470-886d30ebcede",
   "metadata": {},
   "source": [
    "# ans 2\n",
    "The close() function is used to close a file in Python. It's important to close a file after we're done with it because it frees up resources on your computer and ensures that the file's data is saved correctly.\n",
    "\n",
    "When a file is opened, the operating system reserves a specific amount of memory to hold the file's contents and to keep track of where you are in the file (known as the file pointer). This memory is not freed until the file is closed, which means that if you open a large number of files without closing them, your computer could run out of memory.\n",
    "\n",
    "Furthermore, when you write to a file, the data is not immediately saved to the file on your hard drive. Instead, it's temporarily stored in a buffer (a small area of memory) and is only saved to the file when the buffer is flushed (that is, when it's full or when the file is closed). If we don't close the file, the data in the buffer may be lost if the program terminates before the buffer is flushed.\n",
    "\n",
    "Therefore, it's a best practice to always close a file after we're done with it, to avoid running out of memory and to ensure that the file's data is saved correctly. This can be done using the close() method, as shown in the example I provided in my previous answer. Another way to ensure that a file is closed is to use a with statement, which automatically closes the file for you when the block of code is finished, even if an exception is raised."
   ]
  },
  {
   "cell_type": "code",
   "execution_count": 3,
   "id": "8d97cd8f-5cec-43c7-9513-78f2713c4cd5",
   "metadata": {},
   "outputs": [
    {
     "name": "stdout",
     "output_type": "stream",
     "text": [
      "I want to become a Data Analyst\n"
     ]
    }
   ],
   "source": [
    "# ans 3\n",
    "with open(\"sample.txt\", \"w\") as file:\n",
    "    file.write(\"I want to become a Data Analyst\")\n",
    "\n",
    "# Read the contents of the file\n",
    "with open(\"sample.txt\", \"r\") as file:\n",
    "    content = file.read()\n",
    "    print(content)\n",
    "file.close()"
   ]
  },
  {
   "cell_type": "markdown",
   "id": "f48f163c-ff60-4b13-9d33-04da15f7a64f",
   "metadata": {},
   "source": [
    "# ans 4\n",
    "read()\n",
    "The read() method reads the entire contents of a file and returns it as a string. You can specify the number of characters you want to read as an optional parameter. If you don't specify a number, the entire file is read."
   ]
  },
  {
   "cell_type": "code",
   "execution_count": 4,
   "id": "730a29c3-119e-4fd2-9777-9a276ace4983",
   "metadata": {},
   "outputs": [
    {
     "name": "stdout",
     "output_type": "stream",
     "text": [
      "I want to become a Data Analyst\n"
     ]
    }
   ],
   "source": [
    "file = open('sample.txt', 'r')\n",
    "\n",
    "content = file.read()\n",
    "\n",
    "file.close()\n",
    "\n",
    "print(content)"
   ]
  },
  {
   "cell_type": "markdown",
   "id": "7f44c650-8e25-4171-85ab-fe05b2a47bdd",
   "metadata": {},
   "source": [
    "The readline() method reads one line at a time from a file. Each time you call readline(), it reads the next line in the file. If you reach the end of the file, readline() will return an empty string."
   ]
  },
  {
   "cell_type": "code",
   "execution_count": 5,
   "id": "16bc537c-4f24-46d3-b4ea-d7e89cff7557",
   "metadata": {},
   "outputs": [
    {
     "name": "stdout",
     "output_type": "stream",
     "text": [
      "I want to become a Data Analyst\n",
      "\n"
     ]
    }
   ],
   "source": [
    "file = open('sample.txt', 'r')\n",
    "\n",
    "line1 = file.readline()\n",
    "line2 = file.readline()\n",
    "\n",
    "file.close()\n",
    "\n",
    "print(line1)\n",
    "print(line2)"
   ]
  },
  {
   "cell_type": "markdown",
   "id": "1cf9193c-19ab-45f7-837f-f31765a8a6db",
   "metadata": {},
   "source": [
    "The readlines() method reads all the lines in a file and returns them as a list of strings. Each string in the list represents a line in the file."
   ]
  },
  {
   "cell_type": "code",
   "execution_count": 6,
   "id": "72fa89b2-88db-4ac5-880f-be9c74fb0b00",
   "metadata": {},
   "outputs": [
    {
     "name": "stdout",
     "output_type": "stream",
     "text": [
      "I want to become a Data Analyst\n"
     ]
    }
   ],
   "source": [
    "file = open('sample.txt', 'r')\n",
    "lines = file.readlines()\n",
    "\n",
    "file.close()\n",
    "\n",
    "for line in lines:\n",
    "    print(line)"
   ]
  },
  {
   "cell_type": "markdown",
   "id": "cf8d82f5-7c55-41c5-838c-1815de72726b",
   "metadata": {},
   "source": [
    "# ans 5\n",
    "In Python, the with statement is used in conjunction with open() function when working with files. The with statement is used to ensure that a file is closed automatically after the block of code inside the with statement is executed, regardless of whether the code finishes successfully or not. The with statement handles the closing of the file automatically, so you don't have to worry about it. The with statement opens the file and assigns it to the file variable. The block of code inside the with statement reads the contents of the file using the read() method, and prints it to the console. Once the block of code is done executing, the with statement automatically closes the file.\n",
    "\n",
    "The main advantage of using with statement and open() together is that it helps avoid common errors that can occur when working with files, such as forgetting to close a file after opening it or not handling exceptions properly. By using the with statement, you can ensure that the file is closed properly, even if an exception is raised during the execution of the block of code.\n",
    "\n",
    "In summary, using with statement and open() together provides a cleaner and safer way to work with files in Python, ensuring that files are properly opened and closed and making the code easier to read and maintain."
   ]
  },
  {
   "cell_type": "code",
   "execution_count": 7,
   "id": "2f6a29d0-2861-404b-aebf-623c176dcea1",
   "metadata": {},
   "outputs": [
    {
     "name": "stdout",
     "output_type": "stream",
     "text": [
      "I want to become a Data Analyst\n"
     ]
    }
   ],
   "source": [
    "with open('sample.txt', 'r') as file:\n",
    "    contents = file.read()\n",
    "    print(contents)"
   ]
  },
  {
   "cell_type": "markdown",
   "id": "589cd3ae-cfac-4fc4-b314-c1186e6f550f",
   "metadata": {},
   "source": [
    "# ans 6\n",
    "In Python, the write() and writelines() functions are used to write data to a file.\n",
    "\n",
    "write() function The write() function is used to write a string to a file. It takes a single argument, which is the string to be written to the file."
   ]
  },
  {
   "cell_type": "code",
   "execution_count": 8,
   "id": "196698cb-f711-4f19-bf06-9cec7e57f2d9",
   "metadata": {},
   "outputs": [],
   "source": [
    "file = open('example.txt', 'w')\n",
    "\n",
    "file.write('Hello, world!\\n')\n",
    "\n",
    "file.close()"
   ]
  },
  {
   "cell_type": "markdown",
   "id": "3cf4ebcb-bfd6-4e25-977a-16176235c2f5",
   "metadata": {},
   "source": [
    "writelines() function The writelines() function is used to write a list of strings to a file. It takes a single argument, which is a list of strings to be written to the file."
   ]
  },
  {
   "cell_type": "code",
   "execution_count": 9,
   "id": "cc245098-bd73-4a5d-aa07-d094384b768c",
   "metadata": {},
   "outputs": [],
   "source": [
    "file = open('example.txt', 'w')\n",
    "\n",
    "lines = ['Line 1\\n', 'Line 2\\n', 'Line 3\\n']\n",
    "file.writelines(lines)\n",
    "\n",
    "file.close()"
   ]
  },
  {
   "cell_type": "code",
   "execution_count": null,
   "id": "6d2d43be-6a8b-43c1-be7c-a07099579cd3",
   "metadata": {},
   "outputs": [],
   "source": []
  }
 ],
 "metadata": {
  "kernelspec": {
   "display_name": "Python 3 (ipykernel)",
   "language": "python",
   "name": "python3"
  },
  "language_info": {
   "codemirror_mode": {
    "name": "ipython",
    "version": 3
   },
   "file_extension": ".py",
   "mimetype": "text/x-python",
   "name": "python",
   "nbconvert_exporter": "python",
   "pygments_lexer": "ipython3",
   "version": "3.10.8"
  }
 },
 "nbformat": 4,
 "nbformat_minor": 5
}
